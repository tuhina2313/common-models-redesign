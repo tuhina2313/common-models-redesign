{
 "cells": [
  {
   "cell_type": "code",
   "execution_count": 2,
   "id": "a5b209fe-79c8-48c2-b15a-b2fceae75609",
   "metadata": {},
   "outputs": [],
   "source": [
    "import tensorflow as tf\n",
    "from tensorflow import keras"
   ]
  },
  {
   "cell_type": "code",
   "execution_count": 5,
   "id": "b67ccee7-84dc-4e96-a60b-b9e9010fd4aa",
   "metadata": {},
   "outputs": [
    {
     "name": "stdout",
     "output_type": "stream",
     "text": [
      "Downloading data from https://storage.googleapis.com/tensorflow/tf-keras-datasets/train-labels-idx1-ubyte.gz\n",
      "32768/29515 [=================================] - 0s 1us/step\n",
      "Downloading data from https://storage.googleapis.com/tensorflow/tf-keras-datasets/train-images-idx3-ubyte.gz\n",
      "26427392/26421880 [==============================] - 4s 0us/step\n",
      "Downloading data from https://storage.googleapis.com/tensorflow/tf-keras-datasets/t10k-labels-idx1-ubyte.gz\n",
      "8192/5148 [===============================================] - 0s 1us/step\n",
      "Downloading data from https://storage.googleapis.com/tensorflow/tf-keras-datasets/t10k-images-idx3-ubyte.gz\n",
      "4423680/4422102 [==============================] - 1s 0us/step\n"
     ]
    }
   ],
   "source": [
    "fashion_mnist = keras.datasets.fashion_mnist\n",
    "(X_train_full, y_train_full), (X_test, y_test) = fashion_mnist.load_data()"
   ]
  },
  {
   "cell_type": "code",
   "execution_count": 6,
   "id": "0dc8c4be-4393-4102-9ec5-d7ec87e2ee31",
   "metadata": {},
   "outputs": [
    {
     "data": {
      "text/plain": [
       "(60000, 28, 28)"
      ]
     },
     "execution_count": 6,
     "metadata": {},
     "output_type": "execute_result"
    }
   ],
   "source": [
    "X_train_full.shape"
   ]
  },
  {
   "cell_type": "code",
   "execution_count": 7,
   "id": "6216625e-2956-44f4-a282-50905374e82a",
   "metadata": {},
   "outputs": [
    {
     "data": {
      "text/plain": [
       "dtype('uint8')"
      ]
     },
     "execution_count": 7,
     "metadata": {},
     "output_type": "execute_result"
    }
   ],
   "source": [
    "X_train_full.dtype"
   ]
  },
  {
   "cell_type": "code",
   "execution_count": 8,
   "id": "2fd26495-f289-4458-9356-57ecee7e2e30",
   "metadata": {},
   "outputs": [],
   "source": [
    "# make validation set, scale vals to range from 0-1\n",
    "X_valid, X_train = X_train_full[:5000] / 255.0, X_train_full[5000:] / 255.0\n",
    "y_valid, y_train = y_train_full[:5000], y_train_full[5000:]\n",
    "X_test = X_test / 255.0"
   ]
  },
  {
   "cell_type": "code",
   "execution_count": 9,
   "id": "73582f06-d376-4900-a25f-2f5e52b7e6b6",
   "metadata": {},
   "outputs": [],
   "source": [
    "class_names = [\n",
    "    \"T_shirt/top\", \n",
    "    \"Trouser\", \n",
    "    \"Pullover\", \n",
    "    \"Dress\", \n",
    "    \"Coat\", \n",
    "    \"Sandal\", \n",
    "    \"Shirt\", \n",
    "    \"Sneaker\", \n",
    "    \"Bag\", \n",
    "    \"Ankle boot\"\n",
    "]"
   ]
  },
  {
   "cell_type": "code",
   "execution_count": 10,
   "id": "f2f31cc8-6589-4182-ade8-1a962544381b",
   "metadata": {},
   "outputs": [
    {
     "data": {
      "text/plain": [
       "'Coat'"
      ]
     },
     "execution_count": 10,
     "metadata": {},
     "output_type": "execute_result"
    }
   ],
   "source": [
    "class_names[y_train[0]]"
   ]
  },
  {
   "cell_type": "code",
   "execution_count": 39,
   "id": "5b2afb02-1842-4dcd-be44-703e0e52c0f8",
   "metadata": {},
   "outputs": [],
   "source": [
    "model = keras.models.Sequential()\n",
    "model.add(keras.layers.Flatten(input_shape=[28,28]))\n",
    "model.add(keras.layers.Dense(300, activation=\"relu\"))\n",
    "model.add(keras.layers.Dense(100, activation=\"relu\"))\n",
    "model.add(keras.layers.Dense(10, activation=\"softmax\"))\n",
    "\n",
    "# alternate syntax\n",
    "#model = keras.models.Sequential([ \n",
    "#    keras.layers.Flatten(input_shape=[28, 28]), \n",
    "#    keras.layers.Dense(300, activation=\"relu\"), \n",
    "#    keras.layers.Dense(100, activation=\"relu\"), \n",
    "#    keras.layers.Dense(10, activation=\"softmax\")\n",
    "#])"
   ]
  },
  {
   "cell_type": "markdown",
   "id": "2278898a-3359-41b6-93b4-c413cd8a12b9",
   "metadata": {},
   "source": [
    "#### Inspecting a keras NN"
   ]
  },
  {
   "cell_type": "code",
   "execution_count": 15,
   "id": "6e433ba7-3186-4974-9cec-1c26440345c5",
   "metadata": {},
   "outputs": [
    {
     "name": "stdout",
     "output_type": "stream",
     "text": [
      "Model: \"sequential\"\n",
      "_________________________________________________________________\n",
      "Layer (type)                 Output Shape              Param #   \n",
      "=================================================================\n",
      "flatten (Flatten)            (None, 784)               0         \n",
      "_________________________________________________________________\n",
      "dense (Dense)                (None, 300)               235500    \n",
      "_________________________________________________________________\n",
      "dense_1 (Dense)              (None, 100)               30100     \n",
      "_________________________________________________________________\n",
      "dense_2 (Dense)              (None, 10)                1010      \n",
      "=================================================================\n",
      "Total params: 266,610\n",
      "Trainable params: 266,610\n",
      "Non-trainable params: 0\n",
      "_________________________________________________________________\n"
     ]
    }
   ],
   "source": [
    "model.summary()"
   ]
  },
  {
   "cell_type": "code",
   "execution_count": 19,
   "id": "b026e56e-01b0-4281-b888-9cb3ad9d13b1",
   "metadata": {},
   "outputs": [
    {
     "data": {
      "text/plain": [
       "[<tensorflow.python.keras.layers.core.Flatten at 0x1db9a1395b0>,\n",
       " <tensorflow.python.keras.layers.core.Dense at 0x1db9a139640>,\n",
       " <tensorflow.python.keras.layers.core.Dense at 0x1db99fd2fd0>,\n",
       " <tensorflow.python.keras.layers.core.Dense at 0x1db99fd2b80>]"
      ]
     },
     "execution_count": 19,
     "metadata": {},
     "output_type": "execute_result"
    }
   ],
   "source": [
    "model.layers"
   ]
  },
  {
   "cell_type": "code",
   "execution_count": 21,
   "id": "891dd92a-e135-4bbd-9702-5d9380a98da6",
   "metadata": {},
   "outputs": [
    {
     "data": {
      "text/plain": [
       "'dense'"
      ]
     },
     "execution_count": 21,
     "metadata": {},
     "output_type": "execute_result"
    }
   ],
   "source": [
    "model.layers[1].name"
   ]
  },
  {
   "cell_type": "code",
   "execution_count": 24,
   "id": "471cfbb8-a18c-4d66-8e7a-33880e87918d",
   "metadata": {},
   "outputs": [],
   "source": [
    "l1_weights, l1_biases = model.layers[1].get_weights() \n",
    "# weights are randomly initialized to break symmetry\n",
    "# biases all initialized to 0 by default"
   ]
  },
  {
   "cell_type": "markdown",
   "id": "a7970009-da5d-40eb-ad03-abb15919a22e",
   "metadata": {},
   "source": [
    "#### Compiling a model"
   ]
  },
  {
   "cell_type": "code",
   "execution_count": 41,
   "id": "de177fc3-3d96-42b1-8501-881a0772eecb",
   "metadata": {},
   "outputs": [],
   "source": [
    "model.compile(loss=\"sparse_categorical_crossentropy\",\n",
    "              optimizer=\"sgd\",\n",
    "              metrics=[\"accuracy\"])\n",
    "\n",
    "# loss=\"sparse_categorical_crossentropy\" \n",
    "#  why this? --> we have sparse, exclusive labels (one field ranging from 0-0)\n",
    "#  use \"categorical_crossentropy\" arg for one-hot labels\n",
    "#  \n",
    "# optimizer=\"sgd\" \n",
    "#  --> Stochastic Gradient Descent\n",
    "#\n",
    "# metrics=[\"accuracy\"]"
   ]
  },
  {
   "cell_type": "markdown",
   "id": "61249427-1340-42f8-95d4-d273e707359c",
   "metadata": {},
   "source": [
    "#### Training and Evaluation"
   ]
  },
  {
   "cell_type": "code",
   "execution_count": 42,
   "id": "e23d3a3f-d199-4da5-8480-5b52af1e0bbd",
   "metadata": {},
   "outputs": [
    {
     "name": "stdout",
     "output_type": "stream",
     "text": [
      "Epoch 1/30\n",
      "1719/1719 [==============================] - 2s 969us/step - loss: 0.7179 - accuracy: 0.7674 - val_loss: 0.5407 - val_accuracy: 0.8124\n",
      "Epoch 2/30\n",
      "1719/1719 [==============================] - 2s 893us/step - loss: 0.4892 - accuracy: 0.8292 - val_loss: 0.4629 - val_accuracy: 0.8368\n",
      "Epoch 3/30\n",
      "1719/1719 [==============================] - 2s 906us/step - loss: 0.4440 - accuracy: 0.8442 - val_loss: 0.4507 - val_accuracy: 0.8388\n",
      "Epoch 4/30\n",
      "1719/1719 [==============================] - 2s 1000us/step - loss: 0.4166 - accuracy: 0.8530 - val_loss: 0.4175 - val_accuracy: 0.8584\n",
      "Epoch 5/30\n",
      "1719/1719 [==============================] - 2s 885us/step - loss: 0.3977 - accuracy: 0.8583 - val_loss: 0.3971 - val_accuracy: 0.8642\n",
      "Epoch 6/30\n",
      "1719/1719 [==============================] - 2s 880us/step - loss: 0.3818 - accuracy: 0.8641 - val_loss: 0.3701 - val_accuracy: 0.8738\n",
      "Epoch 7/30\n",
      "1719/1719 [==============================] - 2s 879us/step - loss: 0.3686 - accuracy: 0.8696 - val_loss: 0.3739 - val_accuracy: 0.8678\n",
      "Epoch 8/30\n",
      "1719/1719 [==============================] - 2s 889us/step - loss: 0.3560 - accuracy: 0.8733 - val_loss: 0.3680 - val_accuracy: 0.8698\n",
      "Epoch 9/30\n",
      "1719/1719 [==============================] - 2s 901us/step - loss: 0.3460 - accuracy: 0.8769 - val_loss: 0.3514 - val_accuracy: 0.8782\n",
      "Epoch 10/30\n",
      "1719/1719 [==============================] - 2s 913us/step - loss: 0.3362 - accuracy: 0.8803 - val_loss: 0.3405 - val_accuracy: 0.8786\n",
      "Epoch 11/30\n",
      "1719/1719 [==============================] - 2s 895us/step - loss: 0.3276 - accuracy: 0.8833 - val_loss: 0.3404 - val_accuracy: 0.8810\n",
      "Epoch 12/30\n",
      "1719/1719 [==============================] - 2s 902us/step - loss: 0.3200 - accuracy: 0.8853 - val_loss: 0.3302 - val_accuracy: 0.8820\n",
      "Epoch 13/30\n",
      "1719/1719 [==============================] - 2s 889us/step - loss: 0.3124 - accuracy: 0.8874 - val_loss: 0.3299 - val_accuracy: 0.8810\n",
      "Epoch 14/30\n",
      "1719/1719 [==============================] - 2s 976us/step - loss: 0.3058 - accuracy: 0.8910 - val_loss: 0.3197 - val_accuracy: 0.8868\n",
      "Epoch 15/30\n",
      "1719/1719 [==============================] - 2s 894us/step - loss: 0.3002 - accuracy: 0.8924 - val_loss: 0.3452 - val_accuracy: 0.8784\n",
      "Epoch 16/30\n",
      "1719/1719 [==============================] - 2s 899us/step - loss: 0.2927 - accuracy: 0.8945 - val_loss: 0.3146 - val_accuracy: 0.8910\n",
      "Epoch 17/30\n",
      "1719/1719 [==============================] - 2s 886us/step - loss: 0.2884 - accuracy: 0.8960 - val_loss: 0.3405 - val_accuracy: 0.8788\n",
      "Epoch 18/30\n",
      "1719/1719 [==============================] - 2s 894us/step - loss: 0.2812 - accuracy: 0.8988 - val_loss: 0.3168 - val_accuracy: 0.8872\n",
      "Epoch 19/30\n",
      "1719/1719 [==============================] - 2s 881us/step - loss: 0.2762 - accuracy: 0.8995 - val_loss: 0.3475 - val_accuracy: 0.8714\n",
      "Epoch 20/30\n",
      "1719/1719 [==============================] - 2s 885us/step - loss: 0.2722 - accuracy: 0.9010 - val_loss: 0.3145 - val_accuracy: 0.8872\n",
      "Epoch 21/30\n",
      "1719/1719 [==============================] - 2s 891us/step - loss: 0.2662 - accuracy: 0.9041 - val_loss: 0.3107 - val_accuracy: 0.8912\n",
      "Epoch 22/30\n",
      "1719/1719 [==============================] - 2s 882us/step - loss: 0.2603 - accuracy: 0.9067 - val_loss: 0.3140 - val_accuracy: 0.8886\n",
      "Epoch 23/30\n",
      "1719/1719 [==============================] - 2s 885us/step - loss: 0.2572 - accuracy: 0.9058 - val_loss: 0.3070 - val_accuracy: 0.8892\n",
      "Epoch 24/30\n",
      "1719/1719 [==============================] - 2s 995us/step - loss: 0.2530 - accuracy: 0.9082 - val_loss: 0.2993 - val_accuracy: 0.8950\n",
      "Epoch 25/30\n",
      "1719/1719 [==============================] - 2s 970us/step - loss: 0.2492 - accuracy: 0.9100 - val_loss: 0.3035 - val_accuracy: 0.8934\n",
      "Epoch 26/30\n",
      "1719/1719 [==============================] - 2s 879us/step - loss: 0.2440 - accuracy: 0.9125 - val_loss: 0.2952 - val_accuracy: 0.8936\n",
      "Epoch 27/30\n",
      "1719/1719 [==============================] - 2s 887us/step - loss: 0.2397 - accuracy: 0.9131 - val_loss: 0.3013 - val_accuracy: 0.8900\n",
      "Epoch 28/30\n",
      "1719/1719 [==============================] - 2s 915us/step - loss: 0.2356 - accuracy: 0.9149 - val_loss: 0.2947 - val_accuracy: 0.8992\n",
      "Epoch 29/30\n",
      "1719/1719 [==============================] - 2s 891us/step - loss: 0.2322 - accuracy: 0.9157 - val_loss: 0.3101 - val_accuracy: 0.8892\n",
      "Epoch 30/30\n",
      "1719/1719 [==============================] - 2s 943us/step - loss: 0.2279 - accuracy: 0.9173 - val_loss: 0.2995 - val_accuracy: 0.8936\n"
     ]
    }
   ],
   "source": [
    "history = model.fit(X_train, y_train, epochs=30, validation_data=(X_valid, y_valid))"
   ]
  },
  {
   "cell_type": "markdown",
   "id": "ddf2c455-3ae1-47ac-8162-488015fb3976",
   "metadata": {},
   "source": [
    "#### Plotting model training history"
   ]
  },
  {
   "cell_type": "code",
   "execution_count": 33,
   "id": "c0944874-bcee-4fb4-a82e-4886072c851a",
   "metadata": {},
   "outputs": [],
   "source": [
    "import pandas as pd\n",
    "import matplotlib.pyplot as plt"
   ]
  },
  {
   "cell_type": "code",
   "execution_count": 43,
   "id": "16a634ae-0c69-4d9e-a26c-a03dfeb1b469",
   "metadata": {},
   "outputs": [
    {
     "data": {
      "image/png": "[encoded data removed]",
      "text/plain": [
       "<Figure size 576x360 with 1 Axes>"
      ]
     },
     "metadata": {
      "needs_background": "light"
     },
     "output_type": "display_data"
    }
   ],
   "source": [
    "pd.DataFrame(history.history).plot(figsize=(8,5))\n",
    "plt.grid(True)\n",
    "plt.gca().set_ylim(0, 1)\n",
    "plt.show()"
   ]
  },
  {
   "cell_type": "code",
   "execution_count": 44,
   "id": "c6e070bc-e3f9-446f-bbc9-b36d08552383",
   "metadata": {},
   "outputs": [
    {
     "name": "stdout",
     "output_type": "stream",
     "text": [
      "313/313 [==============================] - 0s 572us/step - loss: 0.3397 - accuracy: 0.8773\n"
     ]
    },
    {
     "data": {
      "text/plain": [
       "[0.3396735191345215, 0.8773000240325928]"
      ]
     },
     "execution_count": 44,
     "metadata": {},
     "output_type": "execute_result"
    }
   ],
   "source": [
    "model.evaluate(X_test, y_test)"
   ]
  },
  {
   "cell_type": "code",
   "execution_count": 46,
   "id": "d6b49c8c-8f61-44c5-b8d4-c1b9b6d3b395",
   "metadata": {},
   "outputs": [
    {
     "name": "stdout",
     "output_type": "stream",
     "text": [
      "proba [[0.   0.   0.   0.   0.   0.   0.   0.   0.   1.  ]\n",
      " [0.   0.   0.98 0.   0.01 0.   0.   0.   0.   0.  ]\n",
      " [0.   1.   0.   0.   0.   0.   0.   0.   0.   0.  ]] \n",
      "preds [9 2 1] \n"
     ]
    }
   ],
   "source": [
    "X_new = X_test[:3]\n",
    "y_proba = model.predict(X_new)\n",
    "y_pred = model.predict_classes(X_new)\n",
    "\n",
    "print('proba {} '.format(y_proba.round(2)))\n",
    "print('preds {} '.format(y_pred))"
   ]
  },
  {
   "cell_type": "markdown",
   "id": "8db5f40b-8115-4dac-aea6-90abb81e991d",
   "metadata": {},
   "source": [
    "#### Example of NN Regression Problem"
   ]
  },
  {
   "cell_type": "code",
   "execution_count": 47,
   "id": "a47478b9-c32b-49e5-9780-5ed29f297292",
   "metadata": {},
   "outputs": [],
   "source": [
    "#model = keras.models.Sequential([ \n",
    "#    keras.layers.Dense(30, activation=\"relu\", input_shape=X_train.shape[1:]), \n",
    "#    keras.layers.Dense(1)\n",
    "#])\n",
    "#model.compile(loss=\"mean_squared_error\", optimizer=\"sgd\") history = model.fit(X_train, y_train, epochs=20, validation_data=(X_valid, y_valid))\n",
    "#mse_test = model.evaluate(X_test, y_test) X_new = X_test[:3] # pretend these are new instances y_pred = model.predict(X_new)"
   ]
  },
  {
   "cell_type": "markdown",
   "id": "4e6b5409-04d7-4ccb-a9f2-dd8c422cefce",
   "metadata": {},
   "source": [
    "#### Example of Keras function API (Wide and Deep Neural Network)"
   ]
  },
  {
   "cell_type": "code",
   "execution_count": 49,
   "id": "797a6c95-1b36-426d-8cc7-7e5a71b5432f",
   "metadata": {},
   "outputs": [],
   "source": [
    "#input_ = keras.layers.Input(shape=X_train.shape[1:]) \n",
    "#hidden1 = keras.layers.Dense(30, activation=\"relu\")(input_) \n",
    "#hidden2 = keras.layers.Dense(30, activation=\"relu\")(hidden1) \n",
    "#concat = keras.layers.Concatenate()([input_, hidden2]) \n",
    "#output = keras.layers.Dense(1)(concat) \n",
    "#model = keras.Model(inputs=[input_], outputs=[output])\n",
    "\n",
    "# Note how the concat layer connects to both the input_ layer and hidden2 layer"
   ]
  },
  {
   "cell_type": "markdown",
   "id": "c2d63351-0c2c-4f46-866e-ff580a4a5ef7",
   "metadata": {},
   "source": [
    "#### Saving and loading a model"
   ]
  },
  {
   "cell_type": "code",
   "execution_count": 53,
   "id": "ffe29afb-5f85-43e3-a099-0dcd188a2352",
   "metadata": {},
   "outputs": [],
   "source": [
    "model.save(\"my_keras_model.h5\")\n",
    "loaded_model = keras.models.load_model(\"my_keras_model.h5\")\n",
    "\n",
    "# does not work with subclassing approach"
   ]
  },
  {
   "cell_type": "code",
   "execution_count": null,
   "id": "9a041971-d14c-4e6b-bad2-d93fac7c17cc",
   "metadata": {},
   "outputs": [],
   "source": []
  }
 ],
 "metadata": {
  "kernelspec": {
   "display_name": "Python 3 (ipykernel)",
   "language": "python",
   "name": "python3"
  },
  "language_info": {
   "codemirror_mode": {
    "name": "ipython",
    "version": 3
   },
   "file_extension": ".py",
   "mimetype": "text/x-python",
   "name": "python",
   "nbconvert_exporter": "python",
   "pygments_lexer": "ipython3",
   "version": "3.9.5"
  }
 },
 "nbformat": 4,
 "nbformat_minor": 5
}
